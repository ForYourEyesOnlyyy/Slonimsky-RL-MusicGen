{
 "cells": [
  {
   "cell_type": "markdown",
   "metadata": {},
   "source": [
    "# Generate a Simple Melody with Magenta\n",
    "This notebook demonstrates how to create a short melody using the \"magenta\" library."
   ]
  },
  {
   "cell_type": "code",
   "execution_count": null,
   "metadata": {},
   "outputs": [],
   "source": [
    "# Install Magenta if it isn't already available\n",
    "import sys\n",
    "if 'magenta' not in sys.modules:\n",
    "    %pip install -q magenta"
   ]
  },
  {
   "cell_type": "code",
   "execution_count": null,
   "metadata": {},
   "outputs": [],
   "source": [
    "import note_seq\n",
    "from note_seq.protobuf import music_pb2\n",
    "\n",
    "# Create a simple ascending scale\n",
    "sequence = music_pb2.NoteSequence()\n",
    "sequence.tempos.add(qpm=120)\n",
    "\n",
    "notes = [60, 62, 64, 65, 67, 69, 71, 72]  # C major scale\n",
    "start = 0.0\n",
    "for pitch in notes:\n",
    "    n = sequence.notes.add()\n",
    "    n.pitch = pitch\n",
    "    n.start_time = start\n",
    "    n.end_time = start + 0.5\n",
    "    n.velocity = 80\n",
    "    start += 0.5\n",
    "sequence.total_time = start\n",
    "\n",
    "# Save to a MIDI file\n",
    "note_seq.sequence_proto_to_midi_file(sequence, 'simple_melody.mid')\n",
    "\n",
    "# Play the generated melody\n",
    "note_seq.play_sequence(sequence, synth=note_seq.fluidsynth)"
   ]
  }
 ],
 "metadata": {
  "kernelspec": {
   "display_name": "Python 3",
   "language": "python",
   "name": "python3"
  },
  "language_info": {
   "name": "python",
   "pygments_lexer": "ipython3"
  }
 },
 "nbformat": 4,
 "nbformat_minor": 5
}
